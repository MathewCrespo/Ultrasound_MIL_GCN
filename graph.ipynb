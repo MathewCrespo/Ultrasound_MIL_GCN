{
 "cells": [
  {
   "cell_type": "code",
   "execution_count": 6,
   "metadata": {},
   "outputs": [],
   "source": [
    "import torch_geometric\n",
    "from data.ruijin import RuijinBags\n",
    "from torchvision import transforms\n",
    "from data.PatientBags import PatientBags"
   ]
  },
  {
   "cell_type": "code",
   "execution_count": 8,
   "metadata": {},
   "outputs": [
    {
     "name": "stdout",
     "output_type": "stream",
     "text": [
      "torch.Size([6, 64, 3, 28, 28])\n"
     ]
    }
   ],
   "source": [
    "root = '/remote-home/my/Ultrasound_CV/data/MergePhase1/test_0.3'\n",
    "pre_transform = transforms.Compose([\n",
    "    transforms.Resize((224,224)),\n",
    "    transforms.ToTensor(),\n",
    "    ])\n",
    "test_set = PatientBags(root+'/test',pre_transform=pre_transform,mix_mode=0)\n",
    "test_bag = test_set[0][0]\n",
    "print(test_bag.shape)\n"
   ]
  },
  {
   "cell_type": "code",
   "execution_count": 9,
   "metadata": {},
   "outputs": [
    {
     "name": "stdout",
     "output_type": "stream",
     "text": [
      "torch.Size([64, 3, 28, 28])\n"
     ]
    }
   ],
   "source": [
    "instance1 = test_bag[0,:,:,:]\n",
    "print(instance1.shape)"
   ]
  },
  {
   "cell_type": "code",
   "execution_count": 12,
   "metadata": {},
   "outputs": [],
   "source": [
    "import torch\n",
    "import torch.nn as nn\n",
    "import torch.nn.functional as F\n",
    "from models.ResNet import ResNet10"
   ]
  },
  {
   "cell_type": "code",
   "execution_count": 29,
   "metadata": {},
   "outputs": [],
   "source": [
    "class graph(nn.Module):\n",
    "    def __init__(self,input_dim=3,L=500,D=128,K=1):\n",
    "        super(graph,self).__init__()\n",
    "        self.input_dim = input_dim\n",
    "        self.L = L\n",
    "        self.D = D\n",
    "        self.K = K\n",
    "        \n",
    "        self.feature_extractor_part1 = ResNet10()\n",
    "        self.feature_extractor_part2 = nn.Sequential(\n",
    "            nn.Linear(512*1*1,self.L),\n",
    "            nn.ReLU()\n",
    "        )\n",
    "    \n",
    "    def forward(self,x):\n",
    "        x = x.view(-1,3,28,28)\n",
    "        print(x.shape)\n",
    "        f1 = self.feature_extractor_part1(x)\n",
    "        f1 = f1.view(-1,512*1*1)\n",
    "        print(f1.shape)\n",
    "        f2 = self.feature_extractor_part2(f1)\n",
    "        print(f2.shape)\n",
    "        return f2\n",
    "        "
   ]
  },
  {
   "cell_type": "code",
   "execution_count": 31,
   "metadata": {},
   "outputs": [
    {
     "name": "stdout",
     "output_type": "stream",
     "text": [
      "torch.Size([64, 3, 28, 28])\n",
      "torch.Size([64, 512])\n",
      "torch.Size([64, 500])\n",
      "torch.Size([8, 8, 500])\n"
     ]
    }
   ],
   "source": [
    "tst  = graph().forward(instance1)\n",
    "patch = tst.view(8,8,500)\n",
    "print(patch.shape)"
   ]
  },
  {
   "cell_type": "code",
   "execution_count": 33,
   "metadata": {},
   "outputs": [],
   "source": [
    "sim_matrix = torch.zeros(64,64)\n",
    "for i in range (64):\n",
    "    for j in range (64):\n",
    "        sim_matrix[i][j] = torch.cosine_similarity(tst[i,:],tst[j,:],dim=0)"
   ]
  },
  {
   "cell_type": "code",
   "execution_count": 34,
   "metadata": {},
   "outputs": [
    {
     "name": "stdout",
     "output_type": "stream",
     "text": [
      "tensor([[1.0000, 0.5031, 0.5169,  ..., 0.3457, 0.4141, 0.3925],\n",
      "        [0.5031, 1.0000, 0.5102,  ..., 0.3870, 0.3822, 0.4345],\n",
      "        [0.5169, 0.5102, 1.0000,  ..., 0.3574, 0.4103, 0.4219],\n",
      "        ...,\n",
      "        [0.3457, 0.3870, 0.3574,  ..., 1.0000, 0.4023, 0.5024],\n",
      "        [0.4141, 0.3822, 0.4103,  ..., 0.4023, 1.0000, 0.4407],\n",
      "        [0.3925, 0.4345, 0.4219,  ..., 0.5024, 0.4407, 1.0000]],\n",
      "       grad_fn=<CopySlices>)\n"
     ]
    }
   ],
   "source": [
    "print(sim_matrix)"
   ]
  },
  {
   "cell_type": "code",
   "execution_count": 39,
   "metadata": {},
   "outputs": [
    {
     "name": "stdout",
     "output_type": "stream",
     "text": [
      "[[ 0  1  2  3  4  5  6  7]\n",
      " [ 8  9 10 11 12 13 14 15]\n",
      " [16 17 18 19 20 21 22 23]\n",
      " [24 25 26 27 28 29 30 31]\n",
      " [32 33 34 35 36 37 38 39]\n",
      " [40 41 42 43 44 45 46 47]\n",
      " [48 49 50 51 52 53 54 55]\n",
      " [56 57 58 59 60 61 62 63]]\n"
     ]
    }
   ],
   "source": [
    "import numpy as np\n",
    "pos_matrix = np.zeros((8,8),int)\n",
    "for i in range(8):\n",
    "    for j in range(8):\n",
    "        pos_matrix[i][j] = int(8*i+j) \n",
    "print(pos_matrix)"
   ]
  },
  {
   "cell_type": "code",
   "execution_count": 83,
   "metadata": {},
   "outputs": [
    {
     "name": "stdout",
     "output_type": "stream",
     "text": [
      "[[ 0  1  2 ... 12 13 14]\n",
      " [ 1  0  1 ... 11 12 13]\n",
      " [ 2  1  0 ... 10 11 12]\n",
      " ...\n",
      " [12 11 10 ...  0  1  2]\n",
      " [13 12 11 ...  1  0  1]\n",
      " [14 13 12 ...  2  1  0]]\n"
     ]
    }
   ],
   "source": [
    "cb_matrix = np.zeros((64,64),int)\n",
    "for i in range(64):\n",
    "    for j in range(i+1,64):\n",
    "        x1 = np.floor(i/8)\n",
    "        y1 = i%8\n",
    "        x2 = np.floor(j/8)\n",
    "        y2 = j%8\n",
    "        cb_matrix[i][j] = cb_matrix[j][i] = int(abs(x1-x2)+abs(y1-y2))\n",
    "print(cb_matrix)\n",
    "np.savetxt('dist.txt',cb_matrix)"
   ]
  },
  {
   "cell_type": "code",
   "execution_count": 89,
   "metadata": {},
   "outputs": [
    {
     "name": "stdout",
     "output_type": "stream",
     "text": [
      "tensor([[0.0000, 0.5031, 0.3655,  ..., 0.0998, 0.1149, 0.1049],\n",
      "        [0.5031, 0.0000, 0.5102,  ..., 0.1167, 0.1103, 0.1205],\n",
      "        [0.3655, 0.5102, 0.0000,  ..., 0.1130, 0.1237, 0.1218],\n",
      "        ...,\n",
      "        [0.0998, 0.1167, 0.1130,  ..., 0.0000, 0.4023, 0.3552],\n",
      "        [0.1149, 0.1103, 0.1237,  ..., 0.4023, 0.0000, 0.4407],\n",
      "        [0.1049, 0.1205, 0.1218,  ..., 0.3552, 0.4407, 0.0000]],\n",
      "       grad_fn=<CopySlices>)\n"
     ]
    }
   ],
   "source": [
    "edge_matrix = torch.zeros(64,64)\n",
    "for i in range(64):\n",
    "    for j in range (i+1,64):\n",
    "        edge_matrix[i][j] = edge_matrix[j][i] = sim_matrix[i][j]/(cb_matrix[i][j]**0.5)\n",
    "print(edge_matrix)"
   ]
  },
  {
   "cell_type": "code",
   "execution_count": 90,
   "metadata": {},
   "outputs": [
    {
     "name": "stdout",
     "output_type": "stream",
     "text": [
      "tensor(0.6795, grad_fn=<MaxBackward1>)\n",
      "[[0 1 1 ... 0 0 0]\n",
      " [1 0 1 ... 0 0 0]\n",
      " [1 1 0 ... 0 0 0]\n",
      " ...\n",
      " [0 0 0 ... 0 1 1]\n",
      " [0 0 0 ... 1 0 1]\n",
      " [0 0 0 ... 1 1 0]]\n"
     ]
    }
   ],
   "source": [
    "threshold = torch.max(edge_matrix)\n",
    "print(threshold)\n",
    "edge = edge_matrix > 0.5*threshold\n",
    "a = np.array(edge).astype(int)\n",
    "print(a)"
   ]
  },
  {
   "cell_type": "code",
   "execution_count": 94,
   "metadata": {},
   "outputs": [
    {
     "name": "stdout",
     "output_type": "stream",
     "text": [
      "[[0, 1], [0, 2], [0, 8], [0, 9], [0, 16], [1, 2], [1, 3], [1, 8], [1, 9], [1, 16], [2, 3], [2, 9], [2, 10], [3, 4], [3, 10], [3, 11], [4, 5], [4, 12], [4, 13], [5, 6], [6, 7], [6, 14], [7, 15], [8, 9], [8, 16], [9, 10], [9, 16], [9, 17], [9, 25], [10, 17], [10, 18], [11, 12], [11, 18], [11, 19], [12, 13], [12, 20], [13, 14], [13, 21], [13, 22], [14, 15], [15, 23], [16, 17], [16, 24], [16, 25], [17, 18], [17, 24], [17, 25], [18, 19], [18, 26], [19, 20], [19, 21], [19, 27], [19, 28], [20, 21], [20, 27], [20, 28], [21, 22], [21, 28], [21, 29], [22, 30], [23, 31], [24, 25], [24, 32], [25, 26], [25, 33], [26, 27], [26, 33], [26, 34], [27, 28], [27, 35], [28, 29], [28, 35], [28, 36], [29, 30], [29, 37], [30, 31], [30, 38], [31, 38], [31, 39], [32, 33], [32, 40], [32, 41], [33, 34], [33, 41], [33, 49], [34, 35], [34, 36], [34, 42], [35, 36], [35, 43], [36, 37], [36, 43], [36, 44], [37, 38], [37, 45], [38, 39], [38, 46], [39, 46], [39, 47], [40, 41], [40, 48], [41, 42], [41, 49], [41, 50], [42, 43], [42, 50], [43, 44], [43, 51], [43, 59], [44, 45], [44, 52], [45, 46], [45, 53], [46, 47], [46, 54], [46, 55], [47, 55], [48, 49], [48, 56], [49, 50], [49, 57], [50, 51], [50, 58], [51, 52], [51, 59], [52, 53], [52, 60], [53, 54], [53, 61], [54, 55], [54, 62], [55, 63], [57, 58], [58, 59], [59, 60], [60, 61], [61, 62], [61, 63], [62, 63]]\n",
      "<class 'numpy.ndarray'>\n"
     ]
    }
   ],
   "source": [
    "coo = []\n",
    "for i in range (64):\n",
    "    for j in range(i+1,64):\n",
    "        if a[i][j]== 1:\n",
    "            coo.append([i,j])\n",
    "\n",
    "print(coo)\n",
    "coo = np.array(coo,int)\n",
    "coo = coo.T\n",
    "print(type(coo))"
   ]
  },
  {
   "cell_type": "code",
   "execution_count": 92,
   "metadata": {},
   "outputs": [
    {
     "data": {
      "image/png": "[encoded data removed]",
      "text/plain": [
       "<Figure size 432x288 with 1 Axes>"
      ]
     },
     "metadata": {},
     "output_type": "display_data"
    }
   ],
   "source": [
    "import networkx as nx\n",
    "import matplotlib.pyplot as plt\n",
    "import numpy as np\n",
    " \n",
    "G = nx.Graph()\n",
    "for i in range (64):\n",
    "    for j in range (64):\n",
    "        if a[i][j]:\n",
    "            G.add_edge(i, j)\n",
    "nx.draw(G)\n",
    "plt.show()\n"
   ]
  },
  {
   "cell_type": "code",
   "execution_count": null,
   "metadata": {},
   "outputs": [],
   "source": []
  }
 ],
 "metadata": {
  "kernelspec": {
   "display_name": "liao",
   "language": "python",
   "name": "liao2"
  },
  "language_info": {
   "codemirror_mode": {
    "name": "ipython",
    "version": 3
   },
   "file_extension": ".py",
   "mimetype": "text/x-python",
   "name": "python",
   "nbconvert_exporter": "python",
   "pygments_lexer": "ipython3",
   "version": "3.7.3"
  }
 },
 "nbformat": 4,
 "nbformat_minor": 2
}
