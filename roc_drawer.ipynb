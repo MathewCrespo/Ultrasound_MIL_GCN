{
 "cells": [
  {
   "cell_type": "code",
   "execution_count": null,
   "metadata": {},
   "outputs": [],
   "source": [
    "if __name__ == '__main__':\n",
    "\n",
    "\n",
    "    model_path = '/media/hhy/data/code_results/MILs/MIL_MixedBags/ckp/net.ckpt50.pth'\n",
    "    net = Attention()\n",
    "    inference_path = '/media/hhy/data/USdata/MergePhase1/test_0.3/test'\n",
    "    pre_transform = transforms.Compose([\n",
    "                    transforms.Resize((224,224)),\n",
    "                    transforms.ToTensor()\n",
    "        ])\n",
    "    A = inferencer(model_path,net,inference_path, pre_transform)\n",
    "    A.inference()\n",
    "    A.stats()\n",
    "    '''\n",
    "    for i in range (len(A.total_weights)):\n",
    "        print('Predicted label is {}'.format(A.pred_label[i].item()))\n",
    "        print('Weights are {}'.format(A.total_weights[i].squeeze(-2).tolist()))\n",
    "    #print(A.total_weights)\n",
    "    '''"
   ]
  },
  {
   "cell_type": "code",
   "execution_count": 42,
   "metadata": {},
   "outputs": [],
   "source": [
    "import torch\n",
    "import torch.nn as nn\n",
    "import torch.optim as optim\n",
    "from torchvision.transforms import transforms\n",
    "from models.attentionMIL import Attention, GatedAttention, MIL\n",
    "from data.PatientBags import PatientBags\n",
    "from data.ruijin import RuijinBags\n",
    "from data.bag import BMBags\n",
    "from data.BMDataset import BMDataset\n",
    "from torch.utils.data import DataLoader, Dataset\n",
    "from tqdm import tqdm\n",
    "import matplotlib.pyplot as plt \n",
    "import pandas as pd \n"
   ]
  },
  {
   "cell_type": "code",
   "execution_count": 43,
   "metadata": {},
   "outputs": [],
   "source": [
    "class inferencer (object):\n",
    "    def __init__(self, model_path, net, fold, inference_path):\n",
    "        \n",
    "        self.model = net.cuda()\n",
    "        temp = torch.load(model_path)['net']\n",
    "        self.model.load_state_dict(temp)\n",
    "        pre_transform = transforms.Compose([\n",
    "            transforms.Resize((224, 224)),\n",
    "            transforms.ToTensor()\n",
    "        ])\n",
    "        label_name = \"手术淋巴结情况（0未转移；1转移）\"\n",
    "        self.inference_bag = RuijinBags(inference_path, fold, pre_transform,label_name)\n",
    "        self.batch_size = 1\n",
    "        self.inference_loader = DataLoader(self.inference_bag, batch_size=self.batch_size, shuffle=False, num_workers=8)\n",
    "\n",
    "    def test(self):\n",
    "        self.model.eval()\n",
    "        pred = []\n",
    "        prob = []\n",
    "        g_truth = []\n",
    "        total_weights = []\n",
    "        replace_record = []\n",
    "        for batch_idx, (data, label) in enumerate(tqdm(self.inference_loader, ascii=True, ncols = 60)):   # if label is unavailable, this line shoule be changed\n",
    "            data = data.cuda()\n",
    "            g_truth.append(label)\n",
    "            with torch.no_grad():\n",
    "                prob_label, predicted_label,_ = self.model.calculate_weights(data)\n",
    "            # label or bag label?\n",
    "            #target.append(bag_label.cpu().detach().numpy().ravel())\n",
    "            pred.append(predicted_label.cpu().detach().numpy().ravel())\n",
    "            prob.append(prob_label.cpu().detach().numpy().ravel())\n",
    "        return g_truth, prob, pred\n",
    "\n",
    "    def inference(self):\n",
    "        self.g_truth, self.prob_label, self.pred_label = self.test()"
   ]
  },
  {
   "cell_type": "code",
   "execution_count": 48,
   "metadata": {},
   "outputs": [
    {
     "name": "stderr",
     "output_type": "stream",
     "text": [
      "100%|#####################| 295/295 [00:10<00:00, 28.73it/s]\n"
     ]
    },
    {
     "data": {
      "text/plain": [
       "'\\nfor idx, p in enumerate(path):\\n    instance = inferencer(p, net,[idx] ,inference_path)\\n    target, prob,_ = instance.test()\\n    targets.extend(target)\\n    probs.extend(prob)\\n'"
      ]
     },
     "execution_count": 48,
     "metadata": {},
     "output_type": "execute_result"
    }
   ],
   "source": [
    "net = Attention()\n",
    "inference_path = '/remote-home/my/Ultrasound_CV/data/Ruijin/clean'\n",
    "\n",
    "model_path4 = '/remote-home/my/hhy/Ultrasound_MIL/experiments/pln1_base4/ckp/net.ckpt50.pth'\n",
    "model_path3 = '/remote-home/my/hhy/Ultrasound_MIL/experiments/pln1_base3/ckp/net.ckpt40.pth'\n",
    "model_path2 = '/remote-home/my/hhy/Ultrasound_MIL/experiments/pln1_base2/ckp/net.ckpt20.pth'\n",
    "model_path1 = '/remote-home/my/hhy/Ultrasound_MIL/experiments/pln1_base1/ckp/net.ckpt20.pth'\n",
    "model_path0 = '/remote-home/my/hhy/Ultrasound_MIL/experiments/pln1_base0/ckp/net.ckpt40.pth'\n",
    "path = [model_path0,model_path1,model_path2,model_path3,model_path4]\n",
    "\n",
    "targets = []\n",
    "probs = []\n",
    "\n",
    "instance = inferencer(model_path0, net,[0] ,inference_path)\n",
    "target, prob,_ = instance.test()\n",
    "targets.extend(target)\n",
    "probs.extend(prob)\n",
    "\n",
    "'''\n",
    "for idx, p in enumerate(path):\n",
    "    instance = inferencer(p, net,[idx] ,inference_path)\n",
    "    target, prob,_ = instance.test()\n",
    "    targets.extend(target)\n",
    "    probs.extend(prob)\n",
    "'''"
   ]
  },
  {
   "cell_type": "code",
   "execution_count": 49,
   "metadata": {},
   "outputs": [
    {
     "name": "stdout",
     "output_type": "stream",
     "text": [
      "295\n"
     ]
    }
   ],
   "source": [
    "print(len(probs))"
   ]
  },
  {
   "cell_type": "code",
   "execution_count": 54,
   "metadata": {
    "scrolled": false
   },
   "outputs": [
    {
     "name": "stdout",
     "output_type": "stream",
     "text": [
      "[0.         0.00406504 0.01626016 0.01626016 0.02439024 0.02439024\n",
      " 0.06097561 0.06097561 0.08130081 0.08130081 0.1097561  0.1097561\n",
      " 0.11382114 0.11382114 0.14227642 0.14227642 0.17886179 0.17886179\n",
      " 0.19105691 0.19105691 0.20325203 0.20325203 0.21138211 0.21138211\n",
      " 0.23577236 0.23577236 0.24390244 0.24390244 0.29268293 0.29268293\n",
      " 0.30487805 0.30487805 0.32113821 0.32113821 0.32520325 0.32520325\n",
      " 0.37398374 0.37398374 0.37804878 0.37804878 0.40650407 0.40650407\n",
      " 0.41056911 0.41056911 0.42682927 0.42682927 0.45934959 0.45934959\n",
      " 0.4796748  0.4796748  0.5203252  0.5203252  0.53252033 0.53252033\n",
      " 0.54065041 0.54065041 0.55691057 0.55691057 0.59349593 0.59349593\n",
      " 0.6097561  0.6097561  0.65447154 0.65447154 0.66666667 0.66666667\n",
      " 0.67073171 0.67073171 0.68292683 0.68292683 0.69105691 0.69105691\n",
      " 0.77642276 0.77642276 0.81707317 0.81707317 0.83333333 0.83333333\n",
      " 0.86178862 0.86178862 0.86585366 0.86585366 0.87804878 0.87804878\n",
      " 0.88211382 0.88211382 0.93495935 0.93495935 0.95528455 0.95528455\n",
      " 1.        ]\n",
      "[0.         0.         0.         0.04081633 0.04081633 0.06122449\n",
      " 0.06122449 0.10204082 0.10204082 0.14285714 0.14285714 0.16326531\n",
      " 0.16326531 0.18367347 0.18367347 0.2244898  0.2244898  0.24489796\n",
      " 0.24489796 0.26530612 0.26530612 0.28571429 0.28571429 0.30612245\n",
      " 0.30612245 0.32653061 0.32653061 0.34693878 0.34693878 0.36734694\n",
      " 0.36734694 0.3877551  0.3877551  0.40816327 0.40816327 0.42857143\n",
      " 0.42857143 0.44897959 0.44897959 0.46938776 0.46938776 0.48979592\n",
      " 0.48979592 0.51020408 0.51020408 0.53061224 0.53061224 0.55102041\n",
      " 0.55102041 0.57142857 0.57142857 0.59183673 0.59183673 0.6122449\n",
      " 0.6122449  0.63265306 0.63265306 0.65306122 0.65306122 0.67346939\n",
      " 0.67346939 0.69387755 0.69387755 0.71428571 0.71428571 0.73469388\n",
      " 0.73469388 0.75510204 0.75510204 0.7755102  0.7755102  0.79591837\n",
      " 0.79591837 0.81632653 0.81632653 0.85714286 0.85714286 0.87755102\n",
      " 0.87755102 0.89795918 0.89795918 0.91836735 0.91836735 0.93877551\n",
      " 0.93877551 0.95918367 0.95918367 0.97959184 0.97959184 1.\n",
      " 1.        ]\n",
      "0.5584868093578894\n"
     ]
    }
   ],
   "source": [
    "from sklearn import metrics\n",
    "fpr, tpr, threshold = metrics.roc_curve(targets, probs)\n",
    "#print(fpr,tpr,threshold)\n",
    "roc_auc = metrics.auc(fpr, tpr)\n",
    "print(fpr)\n",
    "print(tpr)\n",
    "print(roc_auc)"
   ]
  },
  {
   "cell_type": "code",
   "execution_count": 53,
   "metadata": {},
   "outputs": [],
   "source": [
    "import numpy as np\n",
    "np.savetxt('fpr.txt',fpr)\n",
    "np.savetxt('tpr.txt',tpr)"
   ]
  },
  {
   "cell_type": "code",
   "execution_count": 51,
   "metadata": {},
   "outputs": [
    {
     "data": {
      "image/png": "[encoded data removed]",
      "text/plain": [
       "<Figure size 432x288 with 1 Axes>"
      ]
     },
     "metadata": {
      "needs_background": "light"
     },
     "output_type": "display_data"
    }
   ],
   "source": [
    "plt.plot(fpr, tpr, 'k-', label='ROC (area = {0:.2f})'.format(roc_auc), lw=2)\n",
    "plt.xlim([-0.05, 1.05])  # 设置x、y轴的上下限，以免和边缘重合，更好的观察图像的整体\n",
    "plt.ylim([-0.05, 1.05])\n",
    "plt.xlabel('False Positive Rate')\n",
    "plt.ylabel('True Positive Rate')  # 可以使用中文，但需要导入一些库即字体\n",
    "plt.title('Attention ROC Curve')\n",
    "plt.legend(loc=\"lower right\")\n",
    "plt.show()"
   ]
  },
  {
   "cell_type": "code",
   "execution_count": null,
   "metadata": {},
   "outputs": [],
   "source": []
  }
 ],
 "metadata": {
  "kernelspec": {
   "display_name": "Python 3",
   "language": "python",
   "name": "python3"
  },
  "language_info": {
   "codemirror_mode": {
    "name": "ipython",
    "version": 3
   },
   "file_extension": ".py",
   "mimetype": "text/x-python",
   "name": "python",
   "nbconvert_exporter": "python",
   "pygments_lexer": "ipython3",
   "version": "3.7.3"
  }
 },
 "nbformat": 4,
 "nbformat_minor": 2
}
