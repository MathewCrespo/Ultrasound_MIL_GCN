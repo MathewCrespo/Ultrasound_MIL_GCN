{
 "cells": [
  {
   "cell_type": "code",
   "execution_count": null,
   "metadata": {},
   "outputs": [],
   "source": [
    "if __name__ == '__main__':\n",
    "\n",
    "\n",
    "    model_path = '/media/hhy/data/code_results/MILs/MIL_MixedBags/ckp/net.ckpt50.pth'\n",
    "    net = Attention()\n",
    "    inference_path = '/media/hhy/data/USdata/MergePhase1/test_0.3/test'\n",
    "    pre_transform = transforms.Compose([\n",
    "                    transforms.Resize((224,224)),\n",
    "                    transforms.ToTensor()\n",
    "        ])\n",
    "    A = inferencer(model_path,net,inference_path, pre_transform)\n",
    "    A.inference()\n",
    "    A.stats()\n",
    "    '''\n",
    "    for i in range (len(A.total_weights)):\n",
    "        print('Predicted label is {}'.format(A.pred_label[i].item()))\n",
    "        print('Weights are {}'.format(A.total_weights[i].squeeze(-2).tolist()))\n",
    "    #print(A.total_weights)\n",
    "    '''"
   ]
  },
  {
   "cell_type": "code",
   "execution_count": null,
   "metadata": {},
   "outputs": [],
   "source": [
    "import torch\n",
    "import torch.nn as nn\n",
    "import torch.optim as optim\n",
    "from torchvision.transforms import transforms\n",
    "from models.attentionMIL import Attention, GatedAttention, MIL\n",
    "from data.PatientBags import PatientBags\n",
    "from data.ruijin import RuijinBags\n",
    "from data.bag import BMBags\n",
    "from data.BMDataset import BMDataset\n",
    "from torch.utils.data import DataLoader, Dataset\n",
    "from tqdm import tqdm\n",
    "import matplotlib.pyplot as plt \n",
    "import pandas as pd \n"
   ]
  },
  {
   "cell_type": "code",
   "execution_count": null,
   "metadata": {},
   "outputs": [],
   "source": [
    "class inferencer (object):\n",
    "    def __init__(self, model_path, net, inference_path, label_name):\n",
    "        \n",
    "        self.model = net.cuda()\n",
    "        temp = torch.load(model_path)['net']\n",
    "        self.model.load_state_dict(temp)\n",
    "        pre_transform = transforms.Compose([\n",
    "            transforms.Resize((224, 224)),\n",
    "            transforms.ToTensor()\n",
    "        ])\n",
    "        label_name = \"pLN分组3（1为0-2枚淋巴结转移；2为＞2枚淋巴结转移）\"\n",
    "        self.inference_bag = RuijinBags(inference_path, [0],pre_transform,label_name)\n",
    "        self.batch_size = 1\n",
    "        self.inference_loader = DataLoader(self.inference_bag, batch_size=self.batch_size, shuffle=False, num_workers=8)\n",
    "\n",
    "    def test(self):\n",
    "        self.model.eval()\n",
    "        pred = []\n",
    "        prob = []\n",
    "        g_truth = []\n",
    "        total_weights = []\n",
    "        replace_record = []\n",
    "        for batch_idx, (data, label) in enumerate(tqdm(self.inference_loader, ascii=True, ncols = 60)):   # if label is unavailable, this line shoule be changed\n",
    "            data = data.cuda()\n",
    "            g_truth.append(label)\n",
    "            with torch.no_grad():\n",
    "                prob_label, predicted_label,_ = self.model.calculate_weights(data)\n",
    "            # label or bag label?\n",
    "            #target.append(bag_label.cpu().detach().numpy().ravel())\n",
    "            pred.append(predicted_label.cpu().detach().numpy().ravel())\n",
    "            prob.append(prob_label.cpu().detach().numpy().ravel())\n",
    "        return g_truth, prob, pred\n",
    "\n",
    "    def inference(self):\n",
    "        self.g_truth, self.prob_label, self.pred_label = self.test()"
   ]
  },
  {
   "cell_type": "code",
   "execution_count": null,
   "metadata": {},
   "outputs": [],
   "source": []
  }
 ],
 "metadata": {
  "kernelspec": {
   "display_name": "Python 3",
   "language": "python",
   "name": "python3"
  },
  "language_info": {
   "codemirror_mode": {
    "name": "ipython",
    "version": 3
   },
   "file_extension": ".py",
   "mimetype": "text/x-python",
   "name": "python",
   "nbconvert_exporter": "python",
   "pygments_lexer": "ipython3",
   "version": "3.7.3"
  }
 },
 "nbformat": 4,
 "nbformat_minor": 2
}
